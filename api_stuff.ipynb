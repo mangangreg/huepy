{
 "cells": [
  {
   "cell_type": "code",
   "execution_count": 29,
   "metadata": {
    "scrolled": true
   },
   "outputs": [],
   "source": [
    "import requests\n",
    "import urllib\n",
    "import json\n",
    "\n",
    "import urllib.parse as parse \n"
   ]
  },
  {
   "cell_type": "code",
   "execution_count": 2,
   "metadata": {},
   "outputs": [
    {
     "data": {
      "text/plain": [
       "{'id': '7ac7efd3d1bd4986b63ad208ab87b7b1',\n",
       " 'secret': '8967f6a519804e04ba35664759499941',\n",
       " 'username': 'mangangreg'}"
      ]
     },
     "execution_count": 2,
     "metadata": {},
     "output_type": "execute_result"
    }
   ],
   "source": [
    "scope = 'user-read-currently-playing'\n",
    "\n",
    "with open('auth.json', 'r') as rfile:\n",
    "    auth=json.load(rfile)\n",
    "\n",
    "auth"
   ]
  },
  {
   "cell_type": "code",
   "execution_count": 79,
   "metadata": {},
   "outputs": [
    {
     "name": "stdout",
     "output_type": "stream",
     "text": [
      "Follow this link and if prompted log in to Spotify.:\n",
      "https://accounts.spotify.com/api/authorize/?client_id=7ac7efd3d1bd4986b63ad208ab87b7b1&response_type=code&redirect_uri=https%3A%2F%2Fgithub.com%2Fmangangreg&scope=user-read-currently-playing&grant_type=client_credentials\n"
     ]
    }
   ],
   "source": [
    "auth_url = 'https://accounts.spotify.com/api/authorize/'\n",
    "\n",
    "\n",
    "\n",
    "auth_data = {'client_id':auth['id'],'response_type':'code', \\\n",
    "             'redirect_uri':'https://github.com/mangangreg',\\\n",
    "            'scope':scope,'grant_type':'client_credentials'}\n",
    "\n",
    "qstr = urllib.parse.urlencode(auth_data)\n",
    "\n",
    "finished = auth_url +'?' + qstr\n",
    "print('Follow this link and if prompted log in to Spotify.:')\n",
    "print(finished)"
   ]
  },
  {
   "cell_type": "code",
   "execution_count": 80,
   "metadata": {},
   "outputs": [
    {
     "data": {
      "text/plain": [
       "['AQCP0ln2bNEH6JUQrhKedpk7eO25iG0tnQLSU2g0CzJ5jx6b3puZu_sh8lFFocs5ir_nYnO0fln83IMEni_ImUyw-gIha5Nm3MlXXNBcCNdRVs4lMFOHRDgwAtdGADEAjpXh4ulplKNrkeQ_Zp3mjqPB4pPxvIjWqDBH5K-9ByWUlOQjsHtnLHa-e33QVXGWZ4R02ZsPqn9kIrJxID1bUt2QoEg1XvgE_KpyRwsPPUo']"
      ]
     },
     "execution_count": 80,
     "metadata": {},
     "output_type": "execute_result"
    }
   ],
   "source": [
    "auth_dict['code']"
   ]
  },
  {
   "cell_type": "code",
   "execution_count": 81,
   "metadata": {
    "scrolled": true
   },
   "outputs": [
    {
     "name": "stdout",
     "output_type": "stream",
     "text": [
      "When redirected to github.com/.... copy and the url and paste it in here!https://github.com/mangangreg?code=AQB9Ox1T-fxPwkuZ5HVaoyh0qL_5TRurU-0733IEoHs4BCvrrVobWiV49ESzmNKB_K_XQF4IiZlQ5oDwuYITfeb4nfwHQotGn3S1dnrG7ac76Tr7egWPb5vnpWwAabgbrdaeSebUPAY82QCUJS2AgY3hbWCN-a_B5V57TDVdrG05PEbUUeeYyoHcJKAM24MaNqyDuQKYuDF1uyV92w0YIUtWw7E986f4cobrnZWfgO8\n"
     ]
    }
   ],
   "source": [
    "      \n",
    "redirect_url = input('When redirected to github.com/.... copy and the url and paste it in here!')"
   ]
  },
  {
   "cell_type": "code",
   "execution_count": 82,
   "metadata": {},
   "outputs": [
    {
     "data": {
      "text/plain": [
       "'code=AQB9Ox1T-fxPwkuZ5HVaoyh0qL_5TRurU-0733IEoHs4BCvrrVobWiV49ESzmNKB_K_XQF4IiZlQ5oDwuYITfeb4nfwHQotGn3S1dnrG7ac76Tr7egWPb5vnpWwAabgbrdaeSebUPAY82QCUJS2AgY3hbWCN-a_B5V57TDVdrG05PEbUUeeYyoHcJKAM24MaNqyDuQKYuDF1uyV92w0YIUtWw7E986f4cobrnZWfgO8'"
      ]
     },
     "execution_count": 82,
     "metadata": {},
     "output_type": "execute_result"
    }
   ],
   "source": [
    "auth_response = parse.urlsplit(redirect_url)\n",
    "auth_response.query"
   ]
  },
  {
   "cell_type": "code",
   "execution_count": 83,
   "metadata": {},
   "outputs": [
    {
     "data": {
      "text/plain": [
       "{'code': ['AQB9Ox1T-fxPwkuZ5HVaoyh0qL_5TRurU-0733IEoHs4BCvrrVobWiV49ESzmNKB_K_XQF4IiZlQ5oDwuYITfeb4nfwHQotGn3S1dnrG7ac76Tr7egWPb5vnpWwAabgbrdaeSebUPAY82QCUJS2AgY3hbWCN-a_B5V57TDVdrG05PEbUUeeYyoHcJKAM24MaNqyDuQKYuDF1uyV92w0YIUtWw7E986f4cobrnZWfgO8']}"
      ]
     },
     "execution_count": 83,
     "metadata": {},
     "output_type": "execute_result"
    }
   ],
   "source": [
    "auth_dict = parse.parse_qs(auth_response.query)\n",
    "auth_dict"
   ]
  },
  {
   "cell_type": "code",
   "execution_count": 84,
   "metadata": {},
   "outputs": [],
   "source": [
    "access_url = 'https://accounts.spotify.com/api/token'\n",
    "\n",
    "\n",
    "client_auth = requests.auth.HTTPBasicAuth(auth['id'], auth['secret']) \n",
    "\n",
    "\n",
    "\n",
    "post_data = {\"scope\": scope, 'client_id':auth['id'], 'client_secret':auth['secret'],\\\n",
    "             'redirect_uri':'https://github.com/mangangreg','grant_type':'authorization_code','code':auth_dict['code'][0]}\n",
    "\n",
    "access_response = requests.post(access_url, data = post_data)"
   ]
  },
  {
   "cell_type": "code",
   "execution_count": 85,
   "metadata": {},
   "outputs": [
    {
     "data": {
      "text/plain": [
       "{'access_token': 'BQBsljzutWdn6TplIERONQF23yPV6q5afHuQFFlYXH8PVZ1Vi7OsnyC3p2lqVRz05DIDMCSpb0YoIfdy4krdAS9HJ7pGVcNGibTwPrpZncdbNcbW2cIociGRYL6p9iLAHrIqc-z5txU23SwTRWB1ipY',\n",
       " 'expires_in': 3600,\n",
       " 'refresh_token': 'AQCtN68g_gbX44Drt3BVsBDf0mjiRgss6fPffv8QsNsMQKiKzJueRw-PD9SlKd7yGU4xNFkGdwkIaEzuwwK8SkaN-QqYXphru838DS-RRTb2-FKpwhcGF1MCo5bkR6y5jwg',\n",
       " 'scope': 'user-read-currently-playing',\n",
       " 'token_type': 'Bearer'}"
      ]
     },
     "execution_count": 85,
     "metadata": {},
     "output_type": "execute_result"
    }
   ],
   "source": [
    "response_dict = (access_response.json())\n",
    "response_dict"
   ]
  },
  {
   "cell_type": "code",
   "execution_count": 59,
   "metadata": {},
   "outputs": [],
   "source": [
    "token = response_dict['access_token']"
   ]
  },
  {
   "cell_type": "code",
   "execution_count": 62,
   "metadata": {},
   "outputs": [
    {
     "data": {
      "text/plain": [
       "'BQCxud6BQBb5FlD9WkNOpkWcMTfJsZ8LGt3JcOncSFE-z6bLnPWTSfw5Uc1luVFQ0zZ81HqCFcbtnFedkY4zXr5GV-1Q7EdRPdlWS5yyMEhOEImgBqntvnfSyBnEbUg2rfxZRtXN4hmu4yMOtMSpAgE'"
      ]
     },
     "execution_count": 62,
     "metadata": {},
     "output_type": "execute_result"
    }
   ],
   "source": [
    "token"
   ]
  },
  {
   "cell_type": "code",
   "execution_count": null,
   "metadata": {},
   "outputs": [],
   "source": [
    "data_response = requests.get('https://api.spotify.com/v1/me/player/currently-playing',headers = {'Authorization ':'Bearer '+token})"
   ]
  },
  {
   "cell_type": "code",
   "execution_count": 86,
   "metadata": {
    "scrolled": true
   },
   "outputs": [
    {
     "data": {
      "text/plain": [
       "{'context': {'external_urls': {'spotify': 'https://open.spotify.com/artist/4xYnPQl897g8ZENbNI04VB'},\n",
       "  'href': 'https://api.spotify.com/v1/artists/4xYnPQl897g8ZENbNI04VB',\n",
       "  'type': 'artist',\n",
       "  'uri': 'spotify:artist:4xYnPQl897g8ZENbNI04VB'},\n",
       " 'is_playing': False,\n",
       " 'item': {'album': {'album_type': 'album',\n",
       "   'artists': [{'external_urls': {'spotify': 'https://open.spotify.com/artist/4xYnPQl897g8ZENbNI04VB'},\n",
       "     'href': 'https://api.spotify.com/v1/artists/4xYnPQl897g8ZENbNI04VB',\n",
       "     'id': '4xYnPQl897g8ZENbNI04VB',\n",
       "     'name': \"London O'Connor\",\n",
       "     'type': 'artist',\n",
       "     'uri': 'spotify:artist:4xYnPQl897g8ZENbNI04VB'}],\n",
       "   'available_markets': ['AD',\n",
       "    'AR',\n",
       "    'AT',\n",
       "    'AU',\n",
       "    'BE',\n",
       "    'BG',\n",
       "    'BO',\n",
       "    'BR',\n",
       "    'CA',\n",
       "    'CH',\n",
       "    'CL',\n",
       "    'CO',\n",
       "    'CR',\n",
       "    'CY',\n",
       "    'CZ',\n",
       "    'DE',\n",
       "    'DK',\n",
       "    'DO',\n",
       "    'EC',\n",
       "    'EE',\n",
       "    'ES',\n",
       "    'FI',\n",
       "    'FR',\n",
       "    'GB',\n",
       "    'GR',\n",
       "    'GT',\n",
       "    'HK',\n",
       "    'HN',\n",
       "    'HU',\n",
       "    'ID',\n",
       "    'IE',\n",
       "    'IL',\n",
       "    'IS',\n",
       "    'IT',\n",
       "    'JP',\n",
       "    'LI',\n",
       "    'LT',\n",
       "    'LU',\n",
       "    'LV',\n",
       "    'MC',\n",
       "    'MT',\n",
       "    'MX',\n",
       "    'MY',\n",
       "    'NI',\n",
       "    'NL',\n",
       "    'NO',\n",
       "    'NZ',\n",
       "    'PA',\n",
       "    'PE',\n",
       "    'PH',\n",
       "    'PL',\n",
       "    'PT',\n",
       "    'PY',\n",
       "    'RO',\n",
       "    'SE',\n",
       "    'SG',\n",
       "    'SK',\n",
       "    'SV',\n",
       "    'TH',\n",
       "    'TR',\n",
       "    'TW',\n",
       "    'US',\n",
       "    'UY',\n",
       "    'VN',\n",
       "    'ZA'],\n",
       "   'external_urls': {'spotify': 'https://open.spotify.com/album/3XZFUnwhTRzeS8iQvOTydU'},\n",
       "   'href': 'https://api.spotify.com/v1/albums/3XZFUnwhTRzeS8iQvOTydU',\n",
       "   'id': '3XZFUnwhTRzeS8iQvOTydU',\n",
       "   'images': [{'height': 637,\n",
       "     'url': 'https://i.scdn.co/image/a45596b904325cb83a2fc74b6fd3587e43ffc2fb',\n",
       "     'width': 640},\n",
       "    {'height': 299,\n",
       "     'url': 'https://i.scdn.co/image/8a58f40c8823acbed6b72f3bf78571576c79b27d',\n",
       "     'width': 300},\n",
       "    {'height': 64,\n",
       "     'url': 'https://i.scdn.co/image/955eabb807ff53c3f47368654e8705131ade24fa',\n",
       "     'width': 64}],\n",
       "   'name': 'O∆',\n",
       "   'release_date': '2017-02-17',\n",
       "   'release_date_precision': 'day',\n",
       "   'type': 'album',\n",
       "   'uri': 'spotify:album:3XZFUnwhTRzeS8iQvOTydU'},\n",
       "  'artists': [{'external_urls': {'spotify': 'https://open.spotify.com/artist/4xYnPQl897g8ZENbNI04VB'},\n",
       "    'href': 'https://api.spotify.com/v1/artists/4xYnPQl897g8ZENbNI04VB',\n",
       "    'id': '4xYnPQl897g8ZENbNI04VB',\n",
       "    'name': \"London O'Connor\",\n",
       "    'type': 'artist',\n",
       "    'uri': 'spotify:artist:4xYnPQl897g8ZENbNI04VB'}],\n",
       "  'available_markets': ['AD',\n",
       "   'AR',\n",
       "   'AT',\n",
       "   'AU',\n",
       "   'BE',\n",
       "   'BG',\n",
       "   'BO',\n",
       "   'BR',\n",
       "   'CA',\n",
       "   'CH',\n",
       "   'CL',\n",
       "   'CO',\n",
       "   'CR',\n",
       "   'CY',\n",
       "   'CZ',\n",
       "   'DE',\n",
       "   'DK',\n",
       "   'DO',\n",
       "   'EC',\n",
       "   'EE',\n",
       "   'ES',\n",
       "   'FI',\n",
       "   'FR',\n",
       "   'GB',\n",
       "   'GR',\n",
       "   'GT',\n",
       "   'HK',\n",
       "   'HN',\n",
       "   'HU',\n",
       "   'ID',\n",
       "   'IE',\n",
       "   'IL',\n",
       "   'IS',\n",
       "   'IT',\n",
       "   'JP',\n",
       "   'LI',\n",
       "   'LT',\n",
       "   'LU',\n",
       "   'LV',\n",
       "   'MC',\n",
       "   'MT',\n",
       "   'MX',\n",
       "   'MY',\n",
       "   'NI',\n",
       "   'NL',\n",
       "   'NO',\n",
       "   'NZ',\n",
       "   'PA',\n",
       "   'PE',\n",
       "   'PH',\n",
       "   'PL',\n",
       "   'PT',\n",
       "   'PY',\n",
       "   'RO',\n",
       "   'SE',\n",
       "   'SG',\n",
       "   'SK',\n",
       "   'SV',\n",
       "   'TH',\n",
       "   'TR',\n",
       "   'TW',\n",
       "   'US',\n",
       "   'UY',\n",
       "   'VN',\n",
       "   'ZA'],\n",
       "  'disc_number': 1,\n",
       "  'duration_ms': 280148,\n",
       "  'explicit': False,\n",
       "  'external_ids': {'isrc': 'USMTD1708853'},\n",
       "  'external_urls': {'spotify': 'https://open.spotify.com/track/4LPWin9XwyKfEIfW9H5wls'},\n",
       "  'href': 'https://api.spotify.com/v1/tracks/4LPWin9XwyKfEIfW9H5wls',\n",
       "  'id': '4LPWin9XwyKfEIfW9H5wls',\n",
       "  'is_local': False,\n",
       "  'name': 'SURVIVE',\n",
       "  'popularity': 24,\n",
       "  'preview_url': 'https://p.scdn.co/mp3-preview/d930b640907d9dd02d053e8164f6b4e07be993d1?cid=7ac7efd3d1bd4986b63ad208ab87b7b1',\n",
       "  'track_number': 10,\n",
       "  'type': 'track',\n",
       "  'uri': 'spotify:track:4LPWin9XwyKfEIfW9H5wls'},\n",
       " 'progress_ms': 161914,\n",
       " 'timestamp': 1534026827484}"
      ]
     },
     "execution_count": 86,
     "metadata": {},
     "output_type": "execute_result"
    }
   ],
   "source": [
    "meta = data_response.json()\n",
    "meta"
   ]
  },
  {
   "cell_type": "code",
   "execution_count": 87,
   "metadata": {},
   "outputs": [
    {
     "data": {
      "text/plain": [
       "200"
      ]
     },
     "execution_count": 87,
     "metadata": {},
     "output_type": "execute_result"
    }
   ],
   "source": [
    "data_response.status_code"
   ]
  },
  {
   "cell_type": "code",
   "execution_count": 76,
   "metadata": {},
   "outputs": [
    {
     "name": "stdout",
     "output_type": "stream",
     "text": [
      "Arist is London O'Connor and track is SURVIVE\n"
     ]
    }
   ],
   "source": [
    "artist = meta['item']['artists'][0]['name']\n",
    "track = meta['item']['name']\n",
    "\n",
    "print('Arist is {0} and track is {1}' .format(artist,track))\n"
   ]
  }
 ],
 "metadata": {
  "kernelspec": {
   "display_name": "Python 3",
   "language": "python",
   "name": "python3"
  },
  "language_info": {
   "codemirror_mode": {
    "name": "ipython",
    "version": 3
   },
   "file_extension": ".py",
   "mimetype": "text/x-python",
   "name": "python",
   "nbconvert_exporter": "python",
   "pygments_lexer": "ipython3",
   "version": "3.6.4"
  }
 },
 "nbformat": 4,
 "nbformat_minor": 2
}
